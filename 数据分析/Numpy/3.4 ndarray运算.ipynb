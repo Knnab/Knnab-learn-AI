{
 "cells": [
  {
   "cell_type": "markdown",
   "id": "c813e60d",
   "metadata": {},
   "source": [
    "# 逻辑运算"
   ]
  },
  {
   "cell_type": "code",
   "execution_count": 2,
   "id": "733c388f",
   "metadata": {},
   "outputs": [],
   "source": [
    "import numpy as np"
   ]
  },
  {
   "cell_type": "code",
   "execution_count": 3,
   "id": "5b8306bb",
   "metadata": {
    "scrolled": true
   },
   "outputs": [],
   "source": [
    "score = np.random.randint(40,100,(10,5))"
   ]
  },
  {
   "cell_type": "code",
   "execution_count": 4,
   "id": "e02c203b",
   "metadata": {},
   "outputs": [
    {
     "data": {
      "text/plain": [
       "array([[70, 61, 41, 71, 94],\n",
       "       [79, 99, 82, 48, 66],\n",
       "       [78, 49, 53, 75, 56],\n",
       "       [98, 67, 64, 99, 51],\n",
       "       [84, 45, 86, 59, 94],\n",
       "       [52, 51, 57, 45, 41],\n",
       "       [86, 83, 94, 65, 45],\n",
       "       [56, 70, 57, 87, 72],\n",
       "       [44, 67, 98, 59, 90],\n",
       "       [63, 74, 88, 67, 59]])"
      ]
     },
     "execution_count": 4,
     "metadata": {},
     "output_type": "execute_result"
    }
   ],
   "source": [
    "score"
   ]
  },
  {
   "cell_type": "code",
   "execution_count": 5,
   "id": "cdeeabc2",
   "metadata": {},
   "outputs": [],
   "source": [
    "test_score = score[6:,0:5]"
   ]
  },
  {
   "cell_type": "code",
   "execution_count": 6,
   "id": "6c89044f",
   "metadata": {},
   "outputs": [
    {
     "data": {
      "text/plain": [
       "array([[86, 83, 94, 65, 45],\n",
       "       [56, 70, 57, 87, 72],\n",
       "       [44, 67, 98, 59, 90],\n",
       "       [63, 74, 88, 67, 59]])"
      ]
     },
     "execution_count": 6,
     "metadata": {},
     "output_type": "execute_result"
    }
   ],
   "source": [
    "test_score"
   ]
  },
  {
   "cell_type": "code",
   "execution_count": 7,
   "id": "2c4b61cc",
   "metadata": {},
   "outputs": [
    {
     "data": {
      "text/plain": [
       "array([[ True,  True,  True,  True, False],\n",
       "       [False,  True, False,  True,  True],\n",
       "       [False,  True,  True, False,  True],\n",
       "       [ True,  True,  True,  True, False]])"
      ]
     },
     "execution_count": 7,
     "metadata": {},
     "output_type": "execute_result"
    }
   ],
   "source": [
    "test_score > 60"
   ]
  },
  {
   "cell_type": "code",
   "execution_count": 8,
   "id": "297af21c",
   "metadata": {},
   "outputs": [],
   "source": [
    "test_score[test_score>60] = 1"
   ]
  },
  {
   "cell_type": "code",
   "execution_count": 9,
   "id": "8f23679a",
   "metadata": {},
   "outputs": [
    {
     "data": {
      "text/plain": [
       "array([[ 1,  1,  1,  1, 45],\n",
       "       [56,  1, 57,  1,  1],\n",
       "       [44,  1,  1, 59,  1],\n",
       "       [ 1,  1,  1,  1, 59]])"
      ]
     },
     "execution_count": 9,
     "metadata": {},
     "output_type": "execute_result"
    }
   ],
   "source": [
    "test_score"
   ]
  },
  {
   "cell_type": "code",
   "execution_count": null,
   "id": "e8c2c2a3",
   "metadata": {},
   "outputs": [],
   "source": []
  }
 ],
 "metadata": {
  "kernelspec": {
   "display_name": "Python 3 (ipykernel)",
   "language": "python",
   "name": "python3"
  },
  "language_info": {
   "codemirror_mode": {
    "name": "ipython",
    "version": 3
   },
   "file_extension": ".py",
   "mimetype": "text/x-python",
   "name": "python",
   "nbconvert_exporter": "python",
   "pygments_lexer": "ipython3",
   "version": "3.9.13"
  },
  "toc": {
   "base_numbering": 1,
   "nav_menu": {},
   "number_sections": true,
   "sideBar": true,
   "skip_h1_title": false,
   "title_cell": "Table of Contents",
   "title_sidebar": "Contents",
   "toc_cell": false,
   "toc_position": {},
   "toc_section_display": true,
   "toc_window_display": false
  }
 },
 "nbformat": 4,
 "nbformat_minor": 5
}
