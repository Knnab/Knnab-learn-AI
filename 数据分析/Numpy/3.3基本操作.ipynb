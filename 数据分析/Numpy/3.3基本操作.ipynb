{
 "cells": [
  {
   "cell_type": "markdown",
   "id": "53a0da94",
   "metadata": {},
   "source": [
    "# 生成数组的方法"
   ]
  },
  {
   "cell_type": "markdown",
   "id": "c5db407d",
   "metadata": {},
   "source": [
    "## 生成0 和 1 数组"
   ]
  },
  {
   "cell_type": "code",
   "execution_count": 1,
   "id": "4c1e507f",
   "metadata": {},
   "outputs": [],
   "source": [
    "import numpy as np"
   ]
  },
  {
   "cell_type": "code",
   "execution_count": 2,
   "id": "4b3d124f",
   "metadata": {},
   "outputs": [
    {
     "data": {
      "text/plain": [
       "array([[1., 1., 1., 1., 1., 1., 1., 1.],\n",
       "       [1., 1., 1., 1., 1., 1., 1., 1.],\n",
       "       [1., 1., 1., 1., 1., 1., 1., 1.],\n",
       "       [1., 1., 1., 1., 1., 1., 1., 1.]])"
      ]
     },
     "execution_count": 2,
     "metadata": {},
     "output_type": "execute_result"
    }
   ],
   "source": [
    "np.ones([4,8])"
   ]
  },
  {
   "cell_type": "code",
   "execution_count": 4,
   "id": "06f9540b",
   "metadata": {},
   "outputs": [
    {
     "data": {
      "text/plain": [
       "array([[0., 0., 0., 0., 0., 0., 0., 0.],\n",
       "       [0., 0., 0., 0., 0., 0., 0., 0.],\n",
       "       [0., 0., 0., 0., 0., 0., 0., 0.],\n",
       "       [0., 0., 0., 0., 0., 0., 0., 0.],\n",
       "       [0., 0., 0., 0., 0., 0., 0., 0.]])"
      ]
     },
     "execution_count": 4,
     "metadata": {},
     "output_type": "execute_result"
    }
   ],
   "source": [
    "np.zeros([5,8])"
   ]
  },
  {
   "cell_type": "markdown",
   "id": "29743209",
   "metadata": {},
   "source": [
    "## 从现有的数组生成"
   ]
  },
  {
   "cell_type": "code",
   "execution_count": 5,
   "id": "bfacdc31",
   "metadata": {},
   "outputs": [],
   "source": [
    "a = np.array([[1,2,3],[4,5,6]])"
   ]
  },
  {
   "cell_type": "code",
   "execution_count": 6,
   "id": "1c1af22f",
   "metadata": {},
   "outputs": [],
   "source": [
    "a1 = np.array(a)\n",
    "a2 = np.asarray(a)"
   ]
  },
  {
   "cell_type": "code",
   "execution_count": 7,
   "id": "973028c3",
   "metadata": {},
   "outputs": [
    {
     "data": {
      "text/plain": [
       "array([[1, 2, 3],\n",
       "       [4, 5, 6]])"
      ]
     },
     "execution_count": 7,
     "metadata": {},
     "output_type": "execute_result"
    }
   ],
   "source": [
    "a1"
   ]
  },
  {
   "cell_type": "code",
   "execution_count": 8,
   "id": "22c2e309",
   "metadata": {},
   "outputs": [
    {
     "data": {
      "text/plain": [
       "array([[1, 2, 3],\n",
       "       [4, 5, 6]])"
      ]
     },
     "execution_count": 8,
     "metadata": {},
     "output_type": "execute_result"
    }
   ],
   "source": [
    "a2"
   ]
  },
  {
   "cell_type": "code",
   "execution_count": 9,
   "id": "b4e63549",
   "metadata": {},
   "outputs": [],
   "source": [
    "a[0][0]=10"
   ]
  },
  {
   "cell_type": "code",
   "execution_count": 10,
   "id": "83e5f504",
   "metadata": {},
   "outputs": [
    {
     "data": {
      "text/plain": [
       "array([[1, 2, 3],\n",
       "       [4, 5, 6]])"
      ]
     },
     "execution_count": 10,
     "metadata": {},
     "output_type": "execute_result"
    }
   ],
   "source": [
    "a1"
   ]
  },
  {
   "cell_type": "code",
   "execution_count": 11,
   "id": "f3e391f6",
   "metadata": {},
   "outputs": [
    {
     "data": {
      "text/plain": [
       "array([[10,  2,  3],\n",
       "       [ 4,  5,  6]])"
      ]
     },
     "execution_count": 11,
     "metadata": {},
     "output_type": "execute_result"
    }
   ],
   "source": [
    "a2"
   ]
  },
  {
   "cell_type": "markdown",
   "id": "512579e7",
   "metadata": {},
   "source": [
    "## 生成固定范围的数组"
   ]
  },
  {
   "cell_type": "code",
   "execution_count": 12,
   "id": "3b4053bf",
   "metadata": {},
   "outputs": [
    {
     "data": {
      "text/plain": [
       "array([  0.,  10.,  20.,  30.,  40.,  50.,  60.,  70.,  80.,  90., 100.])"
      ]
     },
     "execution_count": 12,
     "metadata": {},
     "output_type": "execute_result"
    }
   ],
   "source": [
    "np.linspace(0,100,11)"
   ]
  },
  {
   "cell_type": "code",
   "execution_count": 13,
   "id": "cc23e041",
   "metadata": {},
   "outputs": [
    {
     "data": {
      "text/plain": [
       "array([10, 12, 14, 16, 18, 20, 22, 24, 26, 28, 30, 32, 34, 36, 38, 40, 42,\n",
       "       44, 46, 48])"
      ]
     },
     "execution_count": 13,
     "metadata": {},
     "output_type": "execute_result"
    }
   ],
   "source": [
    "np.arange(10, 50, 2)"
   ]
  },
  {
   "cell_type": "code",
   "execution_count": 14,
   "id": "0d716347",
   "metadata": {},
   "outputs": [
    {
     "data": {
      "text/plain": [
       "array([  1.,  10., 100.])"
      ]
     },
     "execution_count": 14,
     "metadata": {},
     "output_type": "execute_result"
    }
   ],
   "source": [
    "np.logspace(0, 2, 3)  # 生成10^x"
   ]
  },
  {
   "cell_type": "markdown",
   "id": "71c189f0",
   "metadata": {},
   "source": [
    "## 生成随机数组"
   ]
  },
  {
   "cell_type": "code",
   "execution_count": 30,
   "id": "6285a5b2",
   "metadata": {},
   "outputs": [],
   "source": [
    "x = np.random.normal(0, 1, 100000000)"
   ]
  },
  {
   "cell_type": "code",
   "execution_count": 31,
   "id": "c4ed2ee4",
   "metadata": {},
   "outputs": [],
   "source": [
    "import matplotlib.pyplot as plt"
   ]
  },
  {
   "cell_type": "code",
   "execution_count": 32,
   "id": "65381dd4",
   "metadata": {},
   "outputs": [
    {
     "data": {
      "text/plain": [
       "<Figure size 2000x1000 with 0 Axes>"
      ]
     },
     "execution_count": 32,
     "metadata": {},
     "output_type": "execute_result"
    },
    {
     "data": {
      "text/plain": [
       "<Figure size 2000x1000 with 0 Axes>"
      ]
     },
     "metadata": {},
     "output_type": "display_data"
    }
   ],
   "source": [
    "plt.figure(figsize=(20,10), dpi=100)"
   ]
  },
  {
   "cell_type": "code",
   "execution_count": 33,
   "id": "ff6a6797",
   "metadata": {},
   "outputs": [
    {
     "data": {
      "text/plain": [
       "(array([1.00000e+00, 0.00000e+00, 0.00000e+00, 0.00000e+00, 0.00000e+00,\n",
       "        1.00000e+00, 0.00000e+00, 0.00000e+00, 0.00000e+00, 0.00000e+00,\n",
       "        0.00000e+00, 0.00000e+00, 0.00000e+00, 0.00000e+00, 0.00000e+00,\n",
       "        0.00000e+00, 0.00000e+00, 0.00000e+00, 0.00000e+00, 0.00000e+00,\n",
       "        0.00000e+00, 0.00000e+00, 0.00000e+00, 0.00000e+00, 0.00000e+00,\n",
       "        0.00000e+00, 0.00000e+00, 0.00000e+00, 0.00000e+00, 0.00000e+00,\n",
       "        0.00000e+00, 0.00000e+00, 0.00000e+00, 0.00000e+00, 0.00000e+00,\n",
       "        0.00000e+00, 0.00000e+00, 0.00000e+00, 1.00000e+00, 0.00000e+00,\n",
       "        0.00000e+00, 0.00000e+00, 1.00000e+00, 1.00000e+00, 1.00000e+00,\n",
       "        0.00000e+00, 0.00000e+00, 0.00000e+00, 2.00000e+00, 0.00000e+00,\n",
       "        0.00000e+00, 0.00000e+00, 1.00000e+00, 0.00000e+00, 1.00000e+00,\n",
       "        0.00000e+00, 2.00000e+00, 2.00000e+00, 2.00000e+00, 3.00000e+00,\n",
       "        0.00000e+00, 0.00000e+00, 3.00000e+00, 1.00000e+00, 2.00000e+00,\n",
       "        1.00000e+00, 3.00000e+00, 1.00000e+00, 1.00000e+00, 4.00000e+00,\n",
       "        2.00000e+00, 4.00000e+00, 1.00000e+00, 1.00000e+00, 3.00000e+00,\n",
       "        5.00000e+00, 2.00000e+00, 0.00000e+00, 3.00000e+00, 4.00000e+00,\n",
       "        2.00000e+00, 1.00000e+00, 6.00000e+00, 3.00000e+00, 6.00000e+00,\n",
       "        2.00000e+00, 2.00000e+00, 3.00000e+00, 3.00000e+00, 6.00000e+00,\n",
       "        5.00000e+00, 5.00000e+00, 6.00000e+00, 1.00000e+01, 6.00000e+00,\n",
       "        7.00000e+00, 1.00000e+01, 9.00000e+00, 8.00000e+00, 8.00000e+00,\n",
       "        9.00000e+00, 1.00000e+01, 6.00000e+00, 5.00000e+00, 1.10000e+01,\n",
       "        1.00000e+01, 2.00000e+01, 1.90000e+01, 1.60000e+01, 9.00000e+00,\n",
       "        1.90000e+01, 1.10000e+01, 2.00000e+01, 1.60000e+01, 2.30000e+01,\n",
       "        2.60000e+01, 2.60000e+01, 2.00000e+01, 2.70000e+01, 3.00000e+01,\n",
       "        3.00000e+01, 2.60000e+01, 2.90000e+01, 3.50000e+01, 3.60000e+01,\n",
       "        3.90000e+01, 2.70000e+01, 3.70000e+01, 3.70000e+01, 4.00000e+01,\n",
       "        4.30000e+01, 4.70000e+01, 5.30000e+01, 6.20000e+01, 5.90000e+01,\n",
       "        7.60000e+01, 7.00000e+01, 6.20000e+01, 8.50000e+01, 7.30000e+01,\n",
       "        8.30000e+01, 7.40000e+01, 8.60000e+01, 1.02000e+02, 8.20000e+01,\n",
       "        8.20000e+01, 8.20000e+01, 1.15000e+02, 1.16000e+02, 1.26000e+02,\n",
       "        1.26000e+02, 1.22000e+02, 1.39000e+02, 1.29000e+02, 1.57000e+02,\n",
       "        1.67000e+02, 1.67000e+02, 1.43000e+02, 1.74000e+02, 1.99000e+02,\n",
       "        2.08000e+02, 1.59000e+02, 1.68000e+02, 2.16000e+02, 2.37000e+02,\n",
       "        2.20000e+02, 2.51000e+02, 2.58000e+02, 2.73000e+02, 2.86000e+02,\n",
       "        2.98000e+02, 2.92000e+02, 3.31000e+02, 3.31000e+02, 3.86000e+02,\n",
       "        3.36000e+02, 3.83000e+02, 3.87000e+02, 4.30000e+02, 4.16000e+02,\n",
       "        4.46000e+02, 4.61000e+02, 5.25000e+02, 4.89000e+02, 5.95000e+02,\n",
       "        5.58000e+02, 5.28000e+02, 5.82000e+02, 6.33000e+02, 6.17000e+02,\n",
       "        6.88000e+02, 6.92000e+02, 7.25000e+02, 8.19000e+02, 8.14000e+02,\n",
       "        8.05000e+02, 8.58000e+02, 8.83000e+02, 1.03300e+03, 9.90000e+02,\n",
       "        1.07700e+03, 1.03200e+03, 1.12400e+03, 1.15100e+03, 1.24400e+03,\n",
       "        1.23900e+03, 1.31700e+03, 1.36400e+03, 1.38600e+03, 1.49400e+03,\n",
       "        1.56500e+03, 1.55200e+03, 1.67900e+03, 1.71400e+03, 1.79000e+03,\n",
       "        1.79300e+03, 1.89000e+03, 2.01300e+03, 2.15200e+03, 2.14200e+03,\n",
       "        2.29300e+03, 2.31000e+03, 2.38700e+03, 2.49800e+03, 2.51300e+03,\n",
       "        2.69600e+03, 2.82000e+03, 2.93400e+03, 3.03200e+03, 3.05400e+03,\n",
       "        3.17300e+03, 3.32900e+03, 3.42400e+03, 3.63800e+03, 3.73900e+03,\n",
       "        3.83400e+03, 4.00000e+03, 4.13800e+03, 4.34500e+03, 4.28900e+03,\n",
       "        4.55300e+03, 4.78300e+03, 4.85700e+03, 5.14200e+03, 5.31100e+03,\n",
       "        5.45800e+03, 5.60700e+03, 5.81300e+03, 6.08100e+03, 6.14300e+03,\n",
       "        6.33800e+03, 6.63800e+03, 6.85800e+03, 7.04300e+03, 7.35500e+03,\n",
       "        7.51200e+03, 7.93100e+03, 8.13400e+03, 8.39100e+03, 8.71700e+03,\n",
       "        8.73400e+03, 9.35500e+03, 9.43800e+03, 9.97900e+03, 1.02040e+04,\n",
       "        1.05250e+04, 1.08590e+04, 1.11190e+04, 1.17970e+04, 1.18200e+04,\n",
       "        1.23530e+04, 1.24090e+04, 1.28160e+04, 1.32990e+04, 1.39140e+04,\n",
       "        1.44390e+04, 1.47060e+04, 1.50720e+04, 1.55090e+04, 1.61220e+04,\n",
       "        1.65910e+04, 1.69640e+04, 1.78710e+04, 1.79960e+04, 1.85410e+04,\n",
       "        1.91540e+04, 1.97270e+04, 2.04730e+04, 2.11880e+04, 2.14810e+04,\n",
       "        2.20810e+04, 2.29950e+04, 2.36570e+04, 2.41550e+04, 2.44930e+04,\n",
       "        2.51820e+04, 2.62250e+04, 2.68170e+04, 2.74060e+04, 2.84330e+04,\n",
       "        2.90490e+04, 3.00000e+04, 3.06200e+04, 3.17740e+04, 3.23360e+04,\n",
       "        3.32850e+04, 3.41890e+04, 3.49800e+04, 3.60670e+04, 3.64690e+04,\n",
       "        3.77050e+04, 3.87430e+04, 3.99880e+04, 4.08700e+04, 4.19180e+04,\n",
       "        4.28360e+04, 4.43980e+04, 4.51520e+04, 4.59610e+04, 4.71760e+04,\n",
       "        4.81200e+04, 4.95090e+04, 5.09250e+04, 5.24340e+04, 5.35050e+04,\n",
       "        5.46990e+04, 5.59250e+04, 5.74420e+04, 5.86480e+04, 5.96640e+04,\n",
       "        6.15910e+04, 6.30460e+04, 6.43290e+04, 6.57850e+04, 6.75310e+04,\n",
       "        6.88090e+04, 6.98170e+04, 7.15050e+04, 7.37540e+04, 7.48570e+04,\n",
       "        7.65710e+04, 7.85250e+04, 7.98380e+04, 8.20420e+04, 8.33750e+04,\n",
       "        8.48460e+04, 8.71570e+04, 8.92510e+04, 9.11980e+04, 9.29470e+04,\n",
       "        9.49100e+04, 9.65230e+04, 9.86030e+04, 1.00623e+05, 1.02336e+05,\n",
       "        1.04420e+05, 1.06514e+05, 1.08858e+05, 1.10826e+05, 1.12884e+05,\n",
       "        1.15085e+05, 1.17516e+05, 1.19676e+05, 1.21426e+05, 1.23675e+05,\n",
       "        1.26093e+05, 1.29087e+05, 1.31607e+05, 1.34013e+05, 1.35801e+05,\n",
       "        1.38443e+05, 1.40840e+05, 1.43581e+05, 1.45960e+05, 1.47881e+05,\n",
       "        1.50782e+05, 1.53314e+05, 1.55764e+05, 1.58494e+05, 1.60649e+05,\n",
       "        1.64336e+05, 1.66681e+05, 1.69710e+05, 1.72038e+05, 1.75150e+05,\n",
       "        1.77566e+05, 1.79334e+05, 1.83755e+05, 1.85569e+05, 1.88581e+05,\n",
       "        1.91686e+05, 1.95503e+05, 1.98140e+05, 2.00126e+05, 2.03871e+05,\n",
       "        2.06453e+05, 2.09662e+05, 2.12643e+05, 2.15317e+05, 2.18207e+05,\n",
       "        2.21632e+05, 2.24159e+05, 2.27406e+05, 2.30957e+05, 2.34389e+05,\n",
       "        2.37089e+05, 2.40350e+05, 2.44394e+05, 2.46258e+05, 2.50451e+05,\n",
       "        2.53319e+05, 2.55647e+05, 2.59580e+05, 2.62139e+05, 2.65357e+05,\n",
       "        2.68111e+05, 2.72237e+05, 2.74069e+05, 2.77822e+05, 2.81763e+05,\n",
       "        2.84399e+05, 2.86491e+05, 2.90190e+05, 2.93060e+05, 2.96217e+05,\n",
       "        2.99936e+05, 3.03689e+05, 3.06658e+05, 3.10166e+05, 3.13138e+05,\n",
       "        3.16217e+05, 3.19195e+05, 3.21948e+05, 3.24640e+05, 3.28261e+05,\n",
       "        3.31658e+05, 3.35386e+05, 3.36642e+05, 3.39881e+05, 3.44005e+05,\n",
       "        3.47114e+05, 3.47853e+05, 3.52357e+05, 3.53564e+05, 3.57370e+05,\n",
       "        3.60631e+05, 3.63087e+05, 3.66730e+05, 3.68744e+05, 3.71825e+05,\n",
       "        3.75200e+05, 3.78116e+05, 3.81324e+05, 3.82007e+05, 3.84995e+05,\n",
       "        3.87556e+05, 3.89604e+05, 3.92670e+05, 3.94711e+05, 3.97939e+05,\n",
       "        3.99977e+05, 4.02728e+05, 4.05136e+05, 4.07046e+05, 4.09683e+05,\n",
       "        4.10338e+05, 4.12812e+05, 4.14932e+05, 4.17259e+05, 4.20447e+05,\n",
       "        4.22229e+05, 4.22956e+05, 4.25131e+05, 4.26401e+05, 4.29370e+05,\n",
       "        4.30386e+05, 4.32108e+05, 4.33603e+05, 4.36396e+05, 4.36245e+05,\n",
       "        4.38484e+05, 4.39105e+05, 4.40286e+05, 4.42380e+05, 4.42855e+05,\n",
       "        4.45069e+05, 4.46296e+05, 4.47141e+05, 4.47839e+05, 4.48175e+05,\n",
       "        4.50622e+05, 4.52479e+05, 4.52683e+05, 4.51262e+05, 4.51489e+05,\n",
       "        4.53906e+05, 4.54064e+05, 4.54967e+05, 4.54298e+05, 4.56137e+05,\n",
       "        4.55183e+05, 4.54745e+05, 4.56538e+05, 4.56461e+05, 4.56366e+05,\n",
       "        4.55532e+05, 4.57012e+05, 4.56744e+05, 4.56233e+05, 4.55458e+05,\n",
       "        4.55707e+05, 4.55173e+05, 4.55085e+05, 4.56557e+05, 4.55279e+05,\n",
       "        4.54125e+05, 4.53464e+05, 4.53140e+05, 4.52986e+05, 4.51465e+05,\n",
       "        4.50317e+05, 4.48483e+05, 4.47510e+05, 4.48195e+05, 4.46220e+05,\n",
       "        4.45635e+05, 4.44518e+05, 4.41881e+05, 4.40955e+05, 4.40550e+05,\n",
       "        4.38329e+05, 4.37148e+05, 4.35522e+05, 4.34401e+05, 4.32457e+05,\n",
       "        4.30119e+05, 4.28273e+05, 4.27036e+05, 4.25790e+05, 4.23279e+05,\n",
       "        4.21785e+05, 4.19231e+05, 4.17628e+05, 4.13347e+05, 4.14496e+05,\n",
       "        4.11036e+05, 4.08982e+05, 4.06230e+05, 4.04349e+05, 4.02205e+05,\n",
       "        3.99307e+05, 3.97885e+05, 3.94266e+05, 3.92600e+05, 3.90547e+05,\n",
       "        3.87981e+05, 3.84689e+05, 3.83118e+05, 3.79902e+05, 3.76042e+05,\n",
       "        3.74126e+05, 3.71948e+05, 3.69292e+05, 3.66959e+05, 3.63068e+05,\n",
       "        3.61603e+05, 3.57783e+05, 3.55829e+05, 3.51254e+05, 3.49139e+05,\n",
       "        3.45732e+05, 3.42875e+05, 3.40526e+05, 3.37173e+05, 3.34038e+05,\n",
       "        3.31052e+05, 3.29658e+05, 3.25570e+05, 3.22188e+05, 3.18523e+05,\n",
       "        3.15775e+05, 3.13767e+05, 3.09130e+05, 3.07181e+05, 3.03913e+05,\n",
       "        2.99733e+05, 2.96730e+05, 2.95117e+05, 2.90312e+05, 2.87686e+05,\n",
       "        2.84157e+05, 2.81643e+05, 2.77602e+05, 2.74929e+05, 2.71470e+05,\n",
       "        2.68912e+05, 2.65630e+05, 2.62211e+05, 2.58681e+05, 2.56661e+05,\n",
       "        2.51716e+05, 2.49796e+05, 2.45811e+05, 2.44351e+05, 2.39927e+05,\n",
       "        2.36777e+05, 2.33930e+05, 2.31324e+05, 2.28388e+05, 2.24617e+05,\n",
       "        2.21704e+05, 2.18672e+05, 2.16624e+05, 2.12657e+05, 2.09086e+05,\n",
       "        2.07067e+05, 2.03943e+05, 2.00365e+05, 1.96788e+05, 1.94353e+05,\n",
       "        1.91716e+05, 1.89009e+05, 1.86215e+05, 1.82894e+05, 1.80805e+05,\n",
       "        1.78029e+05, 1.75540e+05, 1.71956e+05, 1.69457e+05, 1.67093e+05,\n",
       "        1.64140e+05, 1.62232e+05, 1.59319e+05, 1.55786e+05, 1.53453e+05,\n",
       "        1.51037e+05, 1.48616e+05, 1.46621e+05, 1.43281e+05, 1.41245e+05,\n",
       "        1.38018e+05, 1.36601e+05, 1.33531e+05, 1.30824e+05, 1.28805e+05,\n",
       "        1.26818e+05, 1.24149e+05, 1.21946e+05, 1.20045e+05, 1.17814e+05,\n",
       "        1.15140e+05, 1.13706e+05, 1.10912e+05, 1.08605e+05, 1.06727e+05,\n",
       "        1.04277e+05, 1.02826e+05, 1.00294e+05, 9.85230e+04, 9.69930e+04,\n",
       "        9.44930e+04, 9.28180e+04, 9.11920e+04, 8.91920e+04, 8.74530e+04,\n",
       "        8.53130e+04, 8.35530e+04, 8.18320e+04, 8.01950e+04, 7.81990e+04,\n",
       "        7.60290e+04, 7.51900e+04, 7.31010e+04, 7.20800e+04, 7.03820e+04,\n",
       "        6.88770e+04, 6.71940e+04, 6.58560e+04, 6.43190e+04, 6.26200e+04,\n",
       "        6.15950e+04, 6.00980e+04, 5.89540e+04, 5.69000e+04, 5.58880e+04,\n",
       "        5.47250e+04, 5.36780e+04, 5.21330e+04, 5.11500e+04, 4.96580e+04,\n",
       "        4.82550e+04, 4.72880e+04, 4.63320e+04, 4.51360e+04, 4.37060e+04,\n",
       "        4.28530e+04, 4.16290e+04, 4.10370e+04, 3.98840e+04, 3.83420e+04,\n",
       "        3.77060e+04, 3.71280e+04, 3.61250e+04, 3.48800e+04, 3.39780e+04,\n",
       "        3.31670e+04, 3.23390e+04, 3.12660e+04, 3.08600e+04, 2.99360e+04,\n",
       "        2.90200e+04, 2.81510e+04, 2.76110e+04, 2.69120e+04, 2.60440e+04,\n",
       "        2.55930e+04, 2.44020e+04, 2.40540e+04, 2.37260e+04, 2.27490e+04,\n",
       "        2.23790e+04, 2.14650e+04, 2.10860e+04, 2.03390e+04, 1.96860e+04,\n",
       "        1.89970e+04, 1.86330e+04, 1.82020e+04, 1.74420e+04, 1.70740e+04,\n",
       "        1.68470e+04, 1.61030e+04, 1.55130e+04, 1.50700e+04, 1.46270e+04,\n",
       "        1.42760e+04, 1.36950e+04, 1.36160e+04, 1.30320e+04, 1.26060e+04,\n",
       "        1.23990e+04, 1.18020e+04, 1.16080e+04, 1.11890e+04, 1.09220e+04,\n",
       "        1.07290e+04, 1.02580e+04, 9.89300e+03, 9.64100e+03, 9.22400e+03,\n",
       "        8.95700e+03, 8.76000e+03, 8.30300e+03, 8.17500e+03, 7.89400e+03,\n",
       "        7.63000e+03, 7.48300e+03, 7.02000e+03, 6.80700e+03, 6.57000e+03,\n",
       "        6.59900e+03, 6.24800e+03, 6.08000e+03, 5.80400e+03, 5.60300e+03,\n",
       "        5.53000e+03, 5.25800e+03, 5.08000e+03, 4.98900e+03, 4.71600e+03,\n",
       "        4.65500e+03, 4.39800e+03, 4.37700e+03, 4.12800e+03, 3.91900e+03,\n",
       "        3.82700e+03, 3.65500e+03, 3.55600e+03, 3.36500e+03, 3.36200e+03,\n",
       "        3.23900e+03, 3.14800e+03, 2.95700e+03, 3.01200e+03, 2.73800e+03,\n",
       "        2.65800e+03, 2.60600e+03, 2.44100e+03, 2.38200e+03, 2.31100e+03,\n",
       "        2.24500e+03, 2.17100e+03, 2.12400e+03, 1.98700e+03, 2.01900e+03,\n",
       "        1.87000e+03, 1.76900e+03, 1.74200e+03, 1.60200e+03, 1.63000e+03,\n",
       "        1.44200e+03, 1.47200e+03, 1.42900e+03, 1.37100e+03, 1.32500e+03,\n",
       "        1.21100e+03, 1.24500e+03, 1.24400e+03, 1.12000e+03, 1.07500e+03,\n",
       "        1.02500e+03, 9.73000e+02, 9.04000e+02, 9.51000e+02, 9.04000e+02,\n",
       "        8.45000e+02, 8.11000e+02, 7.50000e+02, 7.37000e+02, 6.99000e+02,\n",
       "        6.45000e+02, 6.79000e+02, 6.32000e+02, 5.98000e+02, 6.00000e+02,\n",
       "        5.29000e+02, 5.74000e+02, 5.28000e+02, 4.84000e+02, 4.63000e+02,\n",
       "        4.65000e+02, 4.45000e+02, 4.33000e+02, 3.76000e+02, 4.02000e+02,\n",
       "        3.66000e+02, 3.68000e+02, 3.47000e+02, 3.19000e+02, 3.09000e+02,\n",
       "        3.26000e+02, 2.49000e+02, 2.44000e+02, 2.63000e+02, 2.33000e+02,\n",
       "        2.64000e+02, 2.26000e+02, 2.08000e+02, 2.18000e+02, 2.15000e+02,\n",
       "        2.08000e+02, 1.70000e+02, 1.80000e+02, 1.67000e+02, 1.40000e+02,\n",
       "        1.48000e+02, 1.57000e+02, 1.36000e+02, 1.17000e+02, 1.33000e+02,\n",
       "        8.90000e+01, 9.30000e+01, 9.50000e+01, 1.14000e+02, 1.01000e+02,\n",
       "        8.10000e+01, 9.00000e+01, 8.00000e+01, 8.00000e+01, 8.20000e+01,\n",
       "        8.30000e+01, 7.40000e+01, 7.50000e+01, 5.00000e+01, 6.70000e+01,\n",
       "        4.70000e+01, 6.30000e+01, 5.40000e+01, 6.10000e+01, 5.10000e+01,\n",
       "        5.20000e+01, 4.20000e+01, 3.30000e+01, 3.40000e+01, 3.80000e+01,\n",
       "        4.20000e+01, 3.10000e+01, 4.20000e+01, 3.30000e+01, 2.80000e+01,\n",
       "        2.50000e+01, 2.00000e+01, 2.50000e+01, 2.30000e+01, 1.40000e+01,\n",
       "        1.90000e+01, 2.40000e+01, 2.00000e+01, 1.00000e+01, 1.60000e+01,\n",
       "        1.50000e+01, 1.70000e+01, 2.00000e+01, 9.00000e+00, 1.80000e+01,\n",
       "        8.00000e+00, 1.20000e+01, 9.00000e+00, 1.10000e+01, 1.60000e+01,\n",
       "        9.00000e+00, 8.00000e+00, 1.10000e+01, 1.30000e+01, 1.00000e+01,\n",
       "        9.00000e+00, 7.00000e+00, 7.00000e+00, 1.00000e+00, 4.00000e+00,\n",
       "        9.00000e+00, 3.00000e+00, 5.00000e+00, 3.00000e+00, 1.20000e+01,\n",
       "        6.00000e+00, 5.00000e+00, 3.00000e+00, 3.00000e+00, 5.00000e+00,\n",
       "        6.00000e+00, 2.00000e+00, 2.00000e+00, 1.00000e+00, 1.00000e+00,\n",
       "        2.00000e+00, 3.00000e+00, 2.00000e+00, 2.00000e+00, 2.00000e+00,\n",
       "        3.00000e+00, 2.00000e+00, 3.00000e+00, 2.00000e+00, 1.00000e+00,\n",
       "        3.00000e+00, 3.00000e+00, 0.00000e+00, 1.00000e+00, 3.00000e+00,\n",
       "        2.00000e+00, 1.00000e+00, 2.00000e+00, 2.00000e+00, 1.00000e+00,\n",
       "        0.00000e+00, 1.00000e+00, 0.00000e+00, 1.00000e+00, 0.00000e+00,\n",
       "        2.00000e+00, 1.00000e+00, 1.00000e+00, 0.00000e+00, 1.00000e+00,\n",
       "        1.00000e+00, 1.00000e+00, 0.00000e+00, 1.00000e+00, 1.00000e+00,\n",
       "        0.00000e+00, 0.00000e+00, 1.00000e+00, 1.00000e+00, 0.00000e+00,\n",
       "        0.00000e+00, 0.00000e+00, 0.00000e+00, 1.00000e+00, 0.00000e+00,\n",
       "        1.00000e+00, 0.00000e+00, 0.00000e+00, 1.00000e+00, 1.00000e+00,\n",
       "        0.00000e+00, 0.00000e+00, 0.00000e+00, 0.00000e+00, 0.00000e+00,\n",
       "        0.00000e+00, 0.00000e+00, 0.00000e+00, 0.00000e+00, 0.00000e+00,\n",
       "        0.00000e+00, 0.00000e+00, 0.00000e+00, 0.00000e+00, 1.00000e+00]),\n",
       " array([-5.78545355, -5.77400864, -5.76256372, ...,  5.63657224,\n",
       "         5.64801715,  5.65946207]),\n",
       " <BarContainer object of 1000 artists>)"
      ]
     },
     "execution_count": 33,
     "metadata": {},
     "output_type": "execute_result"
    },
    {
     "data": {
      "image/png": "[encoded data removed]",
      "text/plain": [
       "<Figure size 640x480 with 1 Axes>"
      ]
     },
     "metadata": {},
     "output_type": "display_data"
    }
   ],
   "source": [
    "plt.hist(x, 1000)"
   ]
  },
  {
   "cell_type": "code",
   "execution_count": 34,
   "id": "c748e01b",
   "metadata": {},
   "outputs": [],
   "source": [
    "plt.show()"
   ]
  },
  {
   "cell_type": "code",
   "execution_count": null,
   "id": "f4d22c73",
   "metadata": {},
   "outputs": [],
   "source": []
  }
 ],
 "metadata": {
  "kernelspec": {
   "display_name": "Python 3 (ipykernel)",
   "language": "python",
   "name": "python3"
  },
  "language_info": {
   "codemirror_mode": {
    "name": "ipython",
    "version": 3
   },
   "file_extension": ".py",
   "mimetype": "text/x-python",
   "name": "python",
   "nbconvert_exporter": "python",
   "pygments_lexer": "ipython3",
   "version": "3.9.13"
  },
  "toc": {
   "base_numbering": 1,
   "nav_menu": {},
   "number_sections": true,
   "sideBar": true,
   "skip_h1_title": false,
   "title_cell": "Table of Contents",
   "title_sidebar": "Contents",
   "toc_cell": false,
   "toc_position": {},
   "toc_section_display": true,
   "toc_window_display": false
  }
 },
 "nbformat": 4,
 "nbformat_minor": 5
}
